{
 "cells": [
  {
   "cell_type": "markdown",
   "metadata": {},
   "source": [
    "# Berkeley Data Science Modules: Advanced Notebook Design\n",
    "<img src=\"https://jupyter.org/assets/main-logo.svg\" style=\"width: 500px; height: 350px;\"/>\n",
    "\n",
    "\n",
    "### Table of Contents\n",
    "1.  The Widget Object <a href='#section 1'></a>\n",
    "\n",
    "2. Types of Widgets<a href='#section 2'></a>\n",
    "\n",
    "3.  <a href='#section 3'>Interact</a>\n",
    "\n",
    "4. Modules Examples\n",
    "\n",
    "5. Style\n",
    "\n",
    "6. Layout"
   ]
  },
  {
   "cell_type": "code",
   "execution_count": 1,
   "metadata": {},
   "outputs": [],
   "source": [
    "# dependencies: THIS CELL MUST BE RUN\n",
    "from datascience import *\n",
    "import numpy as np\n",
    "import math\n",
    "import matplotlib.pyplot as plt\n",
    "plt.style.use('fivethirtyeight')\n",
    "import ipywidgets as widgets\n",
    "%matplotlib inline"
   ]
  },
  {
   "cell_type": "markdown",
   "metadata": {},
   "source": [
    "## 3. Widgets <a id='section 3'></a>\n",
    "\n",
    "From the IPython Widgets team, \"Widgets are eventful python objects that have a representation in the browser, often as a control like a slider, textbox, etc.\"\n",
    "\n",
    "The Modules team uses widgets primarily to encourage non-coding students to explore data and data visualizations. Widgets may also help more experienced coders quickly compare the results of the same computation on multiple variables (e.g. distributions, plots, etc)\n",
    "\n",
    "To use widgets, we must first import the module."
   ]
  },
  {
   "cell_type": "code",
   "execution_count": 2,
   "metadata": {},
   "outputs": [],
   "source": [
    "# import the widgets module\n",
    "import ipywidgets as widgets\n",
    "from ipywidgets import interact, interactive, fixed, interact_manual"
   ]
  },
  {
   "cell_type": "markdown",
   "metadata": {},
   "source": [
    "### The Widget Object"
   ]
  },
  {
   "cell_type": "markdown",
   "metadata": {},
   "source": [
    "Widgets returned in the last line of a code cell are automatically displayed. All widgets are displayed below the code cell."
   ]
  },
  {
   "cell_type": "code",
   "execution_count": null,
   "metadata": {},
   "outputs": [],
   "source": [
    "# create and show an IntSlider\n",
    "widgets.IntSlider()"
   ]
  },
  {
   "cell_type": "code",
   "execution_count": null,
   "metadata": {},
   "outputs": [],
   "source": [
    "# create an IntSlider and save as w\n",
    "w = widgets.IntSlider()\n",
    "# return the IntSlider\n",
    "w"
   ]
  },
  {
   "cell_type": "markdown",
   "metadata": {},
   "source": [
    "If you display the same widget twice, the displayed instances in the front-end will remain in sync with each other. Try dragging the slider below and watch the slider above."
   ]
  },
  {
   "cell_type": "code",
   "execution_count": null,
   "metadata": {},
   "outputs": [],
   "source": [
    "w"
   ]
  },
  {
   "cell_type": "markdown",
   "metadata": {},
   "source": [
    "This works because widgets are represented in the back-end by a single object.  Each time a widget is displayed, a new representation of that same object is created in the front-end.  These representations are called views.\n",
    "\n",
    "![Kernel & front-end diagram](../images/WidgetModelView.png)\n",
    "\n",
    "You can get the current value of the widget using `.value`"
   ]
  },
  {
   "cell_type": "code",
   "execution_count": null,
   "metadata": {},
   "outputs": [],
   "source": [
    "# the current value of the widget\n",
    "w.value"
   ]
  },
  {
   "cell_type": "markdown",
   "metadata": {},
   "source": [
    "You can close a widget by calling its close() method."
   ]
  },
  {
   "cell_type": "code",
   "execution_count": null,
   "metadata": {},
   "outputs": [],
   "source": [
    "# close the w IntSlider\n",
    "w.close()"
   ]
  },
  {
   "cell_type": "markdown",
   "metadata": {},
   "source": [
    "### Widget Types\n",
    "\n",
    "There are many, many widgets available for use. We're going to focus on a few that we use most often while teaching modules."
   ]
  },
  {
   "cell_type": "markdown",
   "metadata": {},
   "source": [
    "#### Sliders"
   ]
  },
  {
   "cell_type": "code",
   "execution_count": null,
   "metadata": {},
   "outputs": [],
   "source": [
    "widgets.IntSlider(\n",
    "    value=7,\n",
    "    min=0,\n",
    "    max=10,\n",
    "    step=1,\n",
    "    description='Test:',\n",
    "    disabled=False,\n",
    "    continuous_update=False,\n",
    "    orientation='horizontal',\n",
    "    readout=True,\n",
    "    readout_format='d'\n",
    ")"
   ]
  },
  {
   "cell_type": "markdown",
   "metadata": {},
   "source": [
    "widgets.FloatSlider(\n",
    "    value=7.5,\n",
    "    min=0,\n",
    "    max=10.0,\n",
    "    step=0.1,\n",
    "    description='Test:',\n",
    "    disabled=False,\n",
    "    continuous_update=False,\n",
    "    orientation='vertical',\n",
    "    readout=True,\n",
    "    readout_format='.1f',\n",
    ")"
   ]
  },
  {
   "cell_type": "markdown",
   "metadata": {},
   "source": [
    "#### Buttons"
   ]
  },
  {
   "cell_type": "code",
   "execution_count": null,
   "metadata": {},
   "outputs": [],
   "source": [
    "widgets.Checkbox(\n",
    "    value=False,\n",
    "    description='Check me',\n",
    "    disabled=False\n",
    ")"
   ]
  },
  {
   "cell_type": "code",
   "execution_count": null,
   "metadata": {},
   "outputs": [],
   "source": [
    "widgets.ToggleButtons(\n",
    "    options=['Slow', 'Regular', 'Fast'],\n",
    "    description='Speed:',\n",
    "    disabled=False,\n",
    "    button_style='', # 'success', 'info', 'warning', 'danger' or ''\n",
    "    tooltips=['Description of slow', 'Description of regular', 'Description of fast'],\n",
    "#     icons=['check'] * 3\n",
    ")"
   ]
  },
  {
   "cell_type": "code",
   "execution_count": null,
   "metadata": {},
   "outputs": [],
   "source": [
    "widgets.Button(\n",
    "    description='Click me',\n",
    "    disabled=False,\n",
    "    button_style='', # 'success', 'info', 'warning', 'danger' or ''\n",
    "    tooltip='Click me',\n",
    "    icon='check'\n",
    ")"
   ]
  },
  {
   "cell_type": "code",
   "execution_count": null,
   "metadata": {},
   "outputs": [],
   "source": [
    "widgets.Dropdown(\n",
    "    options=['1', '2', '3'],\n",
    "    value='2',\n",
    "    description='Number:',\n",
    "    disabled=False,\n",
    ")"
   ]
  },
  {
   "cell_type": "code",
   "execution_count": null,
   "metadata": {},
   "outputs": [],
   "source": [
    "widgets.RadioButtons(\n",
    "    options=['pepperoni', 'pineapple', 'anchovies'],\n",
    "#     value='pineapple',\n",
    "    description='Pizza topping:',\n",
    "    disabled=False\n",
    ")"
   ]
  },
  {
   "cell_type": "code",
   "execution_count": null,
   "metadata": {},
   "outputs": [],
   "source": [
    "widgets.ColorPicker(\n",
    "    concise=False,\n",
    "    description='Pick a color',\n",
    "    value='blue',\n",
    "    disabled=False\n",
    ")"
   ]
  },
  {
   "cell_type": "code",
   "execution_count": null,
   "metadata": {},
   "outputs": [],
   "source": []
  },
  {
   "cell_type": "markdown",
   "metadata": {},
   "source": [
    "### Interact\n",
    "\n",
    "The `interact` function (`ipywidgets.interact`) automatically creates user interface (UI) controls for exploring code and data interactively. It is the easiest way to get started using IPython's widgets.\n",
    "\n",
    "At the most basic level, `interact` autogenerates UI controls for function arguments, and then calls the function with those arguments when you manipulate the controls interactively. To use `interact`, you need to define a function that you want to explore. Here is a function that triples its argument, `x`."
   ]
  },
  {
   "cell_type": "code",
   "execution_count": 3,
   "metadata": {},
   "outputs": [],
   "source": [
    "def f(x):\n",
    "    return 3 * x"
   ]
  },
  {
   "cell_type": "markdown",
   "metadata": {},
   "source": [
    "When you pass this function as the first argument to `interact` along with an integer keyword argument (`x=10`), a slider is generated and bound to the function parameter."
   ]
  },
  {
   "cell_type": "code",
   "execution_count": 4,
   "metadata": {},
   "outputs": [
    {
     "data": {
      "application/vnd.jupyter.widget-view+json": {
       "model_id": "bd8946a4691446ca8263afbb92bbe7d3",
       "version_major": 2,
       "version_minor": 0
      },
      "text/plain": [
       "interactive(children=(IntSlider(value=10, description='x', max=30, min=-10), Output()), _dom_classes=('widget-…"
      ]
     },
     "metadata": {},
     "output_type": "display_data"
    }
   ],
   "source": [
    "interact(f, x=10);"
   ]
  },
  {
   "cell_type": "markdown",
   "metadata": {},
   "source": [
    "@interact(x=True, y=1.0)\n",
    "def g(x, y):\n",
    "    return (x, y)"
   ]
  },
  {
   "cell_type": "code",
   "execution_count": 5,
   "metadata": {},
   "outputs": [
    {
     "data": {
      "application/vnd.jupyter.widget-view+json": {
       "model_id": "d2c79ac0dd2140679eda9edb39a7ac85",
       "version_major": 2,
       "version_minor": 0
      },
      "text/plain": [
       "interactive(children=(Text(value='wtf', description='x'), Output()), _dom_classes=('widget-interact',))"
      ]
     },
     "metadata": {},
     "output_type": "display_data"
    },
    {
     "data": {
      "text/plain": [
       "<function __main__.f>"
      ]
     },
     "execution_count": 5,
     "metadata": {},
     "output_type": "execute_result"
    }
   ],
   "source": [
    "interact(f, x=\"wtf\")"
   ]
  },
  {
   "cell_type": "markdown",
   "metadata": {},
   "source": [
    "When you pass an integer-valued keyword argument of `10` (`x=10`) to `interact`, it generates an integer-valued slider control with a range of `[-10,+3*10]`. In this case, `10` is an *abbreviation* for an actual slider widget:\n",
    "\n",
    "```python\n",
    "IntSlider(min=-10,max=30,step=1,value=10)\n",
    "```\n",
    "\n",
    "In fact, we can get the same result if we pass this `IntSlider` as the keyword argument for `x`:"
   ]
  },
  {
   "cell_type": "code",
   "execution_count": null,
   "metadata": {},
   "outputs": [],
   "source": [
    "interact(f, x=widgets.IntSlider(min=-10, max=30, step=1, value=10));"
   ]
  },
  {
   "cell_type": "markdown",
   "metadata": {},
   "source": [
    "This examples clarifies how `interact` proceses its keyword arguments:\n",
    "\n",
    "1. If the keyword argument is a `Widget` instance with a `value` attribute, that widget is used. Any widget with a `value` attribute can be used, even custom ones.\n",
    "2. Otherwise, the value is treated as a *widget abbreviation* that is converted to a widget before it is used.\n",
    "\n",
    "The following table gives an overview of different widget abbreviations:\n",
    "\n",
    "<table class=\"table table-condensed table-bordered\">\n",
    "  <tr><td><strong>Keyword argument</strong></td><td><strong>Widget</strong></td></tr>  \n",
    "  <tr><td>`True` or `False`</td><td>Checkbox</td></tr>  \n",
    "  <tr><td>`'Hi there'`</td><td>Text</td></tr>\n",
    "  <tr><td>`value` or `(min,max)` or `(min,max,step)` if integers are passed</td><td>IntSlider</td></tr>\n",
    "  <tr><td>`value` or `(min,max)` or `(min,max,step)` if floats are passed</td><td>FloatSlider</td></tr>\n",
    "  <tr><td>`['orange','apple']` or `[('one', 1), ('two', 2)]`</td><td>Dropdown</td></tr>\n",
    "</table>\n",
    "Note that a dropdown is used if a list or a list of tuples is given (signifying discrete choices), and a slider is used if a tuple is given (signifying a range)."
   ]
  },
  {
   "cell_type": "markdown",
   "metadata": {},
   "source": [
    "### Examples for Modules\n",
    "\n",
    "In Modules, we often use widgets to let students interact with data without having to write code. This approach reduces the chances a Modules student will generate errors and allows them to focus on analysis and interpretation rather than code."
   ]
  },
  {
   "cell_type": "code",
   "execution_count": 9,
   "metadata": {},
   "outputs": [
    {
     "data": {
      "application/vnd.jupyter.widget-view+json": {
       "model_id": "5c5e15cd5613469caba642a0f054fcc0",
       "version_major": 2,
       "version_minor": 0
      },
      "text/plain": [
       "interactive(children=(ToggleButtons(description='feature', options=('Rank', 'Votes'), value='Rank'), Output())…"
      ]
     },
     "metadata": {},
     "output_type": "display_data"
    }
   ],
   "source": [
    "# load movie data\n",
    "ratings = Table.read_table(\"../data/imdb_ratings.csv\")\n",
    "\n",
    "# make many bar plots showing feature averages per decade\n",
    "def avg_by_decade(feature):\n",
    "    return ratings.select(feature, \"Decade\").group(\"Decade\", np.average).barh(\"Decade\")\n",
    "\n",
    "# create the slider sfor the widget\n",
    "buttons = widgets.ToggleButtons(options=[\"Rank\", \"Votes\"])\n",
    "\n",
    "# create the widget to view plots for different parameter values\n",
    "display(widgets.interactive(avg_by_decade, feature=buttons))"
   ]
  },
  {
   "cell_type": "code",
   "execution_count": 12,
   "metadata": {},
   "outputs": [
    {
     "data": {
      "text/html": [
       "<table border=\"1\" class=\"dataframe\">\n",
       "    <thead>\n",
       "        <tr>\n",
       "            <th>instant</th> <th>date</th> <th>season</th> <th>year</th> <th>month</th> <th>is holiday</th> <th>day of week</th> <th>is work day</th> <th>weather</th> <th>temp</th> <th>felt temp</th> <th>humidity</th> <th>windspeed</th> <th>casual</th> <th>registered</th> <th>total riders</th>\n",
       "        </tr>\n",
       "    </thead>\n",
       "    <tbody>\n",
       "        <tr>\n",
       "            <td>1      </td> <td>2011-01-01</td> <td>1:spring</td> <td>0   </td> <td>1    </td> <td>0         </td> <td>6:saturday </td> <td>0          </td> <td>2      </td> <td>0.344167</td> <td>0.363625 </td> <td>0.805833</td> <td>0.160446 </td> <td>331   </td> <td>654       </td> <td>985         </td>\n",
       "        </tr>\n",
       "    </tbody>\n",
       "        <tr>\n",
       "            <td>2      </td> <td>2011-01-02</td> <td>1:spring</td> <td>0   </td> <td>1    </td> <td>0         </td> <td>0:sunday   </td> <td>0          </td> <td>2      </td> <td>0.363478</td> <td>0.353739 </td> <td>0.696087</td> <td>0.248539 </td> <td>131   </td> <td>670       </td> <td>801         </td>\n",
       "        </tr>\n",
       "    </tbody>\n",
       "        <tr>\n",
       "            <td>3      </td> <td>2011-01-03</td> <td>1:spring</td> <td>0   </td> <td>1    </td> <td>0         </td> <td>1:monday   </td> <td>1          </td> <td>1      </td> <td>0.196364</td> <td>0.189405 </td> <td>0.437273</td> <td>0.248309 </td> <td>120   </td> <td>1229      </td> <td>1349        </td>\n",
       "        </tr>\n",
       "    </tbody>\n",
       "        <tr>\n",
       "            <td>4      </td> <td>2011-01-04</td> <td>1:spring</td> <td>0   </td> <td>1    </td> <td>0         </td> <td>2:tuesday  </td> <td>1          </td> <td>1      </td> <td>0.2     </td> <td>0.212122 </td> <td>0.590435</td> <td>0.160296 </td> <td>108   </td> <td>1454      </td> <td>1562        </td>\n",
       "        </tr>\n",
       "    </tbody>\n",
       "        <tr>\n",
       "            <td>5      </td> <td>2011-01-05</td> <td>1:spring</td> <td>0   </td> <td>1    </td> <td>0         </td> <td>3:wednesday</td> <td>1          </td> <td>1      </td> <td>0.226957</td> <td>0.22927  </td> <td>0.436957</td> <td>0.1869   </td> <td>82    </td> <td>1518      </td> <td>1600        </td>\n",
       "        </tr>\n",
       "    </tbody>\n",
       "        <tr>\n",
       "            <td>6      </td> <td>2011-01-06</td> <td>1:spring</td> <td>0   </td> <td>1    </td> <td>0         </td> <td>4:thursday </td> <td>1          </td> <td>1      </td> <td>0.204348</td> <td>0.233209 </td> <td>0.518261</td> <td>0.0895652</td> <td>88    </td> <td>1518      </td> <td>1606        </td>\n",
       "        </tr>\n",
       "    </tbody>\n",
       "        <tr>\n",
       "            <td>7      </td> <td>2011-01-07</td> <td>1:spring</td> <td>0   </td> <td>1    </td> <td>0         </td> <td>5:friday   </td> <td>1          </td> <td>2      </td> <td>0.196522</td> <td>0.208839 </td> <td>0.498696</td> <td>0.168726 </td> <td>148   </td> <td>1362      </td> <td>1510        </td>\n",
       "        </tr>\n",
       "    </tbody>\n",
       "        <tr>\n",
       "            <td>8      </td> <td>2011-01-08</td> <td>1:spring</td> <td>0   </td> <td>1    </td> <td>0         </td> <td>6:saturday </td> <td>0          </td> <td>2      </td> <td>0.165   </td> <td>0.162254 </td> <td>0.535833</td> <td>0.266804 </td> <td>68    </td> <td>891       </td> <td>959         </td>\n",
       "        </tr>\n",
       "    </tbody>\n",
       "        <tr>\n",
       "            <td>9      </td> <td>2011-01-09</td> <td>1:spring</td> <td>0   </td> <td>1    </td> <td>0         </td> <td>0:sunday   </td> <td>0          </td> <td>1      </td> <td>0.138333</td> <td>0.116175 </td> <td>0.434167</td> <td>0.36195  </td> <td>54    </td> <td>768       </td> <td>822         </td>\n",
       "        </tr>\n",
       "    </tbody>\n",
       "        <tr>\n",
       "            <td>10     </td> <td>2011-01-10</td> <td>1:spring</td> <td>0   </td> <td>1    </td> <td>0         </td> <td>1:monday   </td> <td>1          </td> <td>1      </td> <td>0.150833</td> <td>0.150888 </td> <td>0.482917</td> <td>0.223267 </td> <td>41    </td> <td>1280      </td> <td>1321        </td>\n",
       "        </tr>\n",
       "    </tbody>\n",
       "</table>\n",
       "<p>... (721 rows omitted)</p>"
      ],
      "text/plain": [
       "instant | date       | season   | year | month | is holiday | day of week | is work day | weather | temp     | felt temp | humidity | windspeed | casual | registered | total riders\n",
       "1       | 2011-01-01 | 1:spring | 0    | 1     | 0          | 6:saturday  | 0           | 2       | 0.344167 | 0.363625  | 0.805833 | 0.160446  | 331    | 654        | 985\n",
       "2       | 2011-01-02 | 1:spring | 0    | 1     | 0          | 0:sunday    | 0           | 2       | 0.363478 | 0.353739  | 0.696087 | 0.248539  | 131    | 670        | 801\n",
       "3       | 2011-01-03 | 1:spring | 0    | 1     | 0          | 1:monday    | 1           | 1       | 0.196364 | 0.189405  | 0.437273 | 0.248309  | 120    | 1229       | 1349\n",
       "4       | 2011-01-04 | 1:spring | 0    | 1     | 0          | 2:tuesday   | 1           | 1       | 0.2      | 0.212122  | 0.590435 | 0.160296  | 108    | 1454       | 1562\n",
       "5       | 2011-01-05 | 1:spring | 0    | 1     | 0          | 3:wednesday | 1           | 1       | 0.226957 | 0.22927   | 0.436957 | 0.1869    | 82     | 1518       | 1600\n",
       "6       | 2011-01-06 | 1:spring | 0    | 1     | 0          | 4:thursday  | 1           | 1       | 0.204348 | 0.233209  | 0.518261 | 0.0895652 | 88     | 1518       | 1606\n",
       "7       | 2011-01-07 | 1:spring | 0    | 1     | 0          | 5:friday    | 1           | 2       | 0.196522 | 0.208839  | 0.498696 | 0.168726  | 148    | 1362       | 1510\n",
       "8       | 2011-01-08 | 1:spring | 0    | 1     | 0          | 6:saturday  | 0           | 2       | 0.165    | 0.162254  | 0.535833 | 0.266804  | 68     | 891        | 959\n",
       "9       | 2011-01-09 | 1:spring | 0    | 1     | 0          | 0:sunday    | 0           | 1       | 0.138333 | 0.116175  | 0.434167 | 0.36195   | 54     | 768        | 822\n",
       "10      | 2011-01-10 | 1:spring | 0    | 1     | 0          | 1:monday    | 1           | 1       | 0.150833 | 0.150888  | 0.482917 | 0.223267  | 41     | 1280       | 1321\n",
       "... (721 rows omitted)"
      ]
     },
     "execution_count": 12,
     "metadata": {},
     "output_type": "execute_result"
    }
   ],
   "source": [
    "# load the Capital bike-sharing data set\n",
    "bikes = Table.read_table(\"../data/day_renamed.csv\")\n",
    "bikes"
   ]
  },
  {
   "cell_type": "code",
   "execution_count": 17,
   "metadata": {},
   "outputs": [
    {
     "data": {
      "application/vnd.jupyter.widget-view+json": {
       "model_id": "a44b348a51c84297a6d091c1225260fb",
       "version_major": 2,
       "version_minor": 0
      },
      "text/plain": [
       "interactive(children=(Dropdown(description='predictor', options=('humidity', 'windspeed', 'temp'), value='humi…"
      ]
     },
     "metadata": {},
     "output_type": "display_data"
    }
   ],
   "source": [
    "# compare scatter plots for casual and registered riders for different predictor variables\n",
    "def scatter_bikes(predictor, response, fit_line):\n",
    "    if response == \"both\":\n",
    "        b = bikes.select(\"registered\", \"casual\", predictor)\n",
    "    else:\n",
    "        b = bikes.select(response, predictor)\n",
    "    return b.scatter(predictor, fit_line=fit_line)\n",
    "\n",
    "# create the sliders for the widget\n",
    "predict_widget = widgets.Dropdown(options=[\"humidity\", \"windspeed\", \"temp\"],\n",
    "                         value=\"humidity\")\n",
    "response_widget = widgets.Dropdown(options=[\"casual\", \"registered\", \"both\"],\n",
    "                         value=\"casual\")\n",
    "fitline_widget = widgets.Checkbox(value=True,\n",
    "                          description=\"Show fit line\")\n",
    "\n",
    "# create the widget to view plots for different parameter values\n",
    "interact(scatter_bikes, predictor=predict_widget, response=response_widget, fit_line=fitline_widget);"
   ]
  },
  {
   "cell_type": "markdown",
   "metadata": {},
   "source": [
    "## Predefined styles\n",
    "\n",
    "If you wish the styling of widgets to make use of colors and styles defined by the environment (to be consistent with e.g. a notebook theme), many widgets enable choosing in a list of pre-defined styles.\n",
    "\n",
    "For example, the `Button` widget has a `button_style` attribute that may take 5 different values:\n",
    "\n",
    " - `'primary'`\n",
    " - `'success'`\n",
    " - `'info'`\n",
    " - `'warning'`\n",
    " - `'danger'`\n",
    "\n",
    "besides the default empty string ''."
   ]
  },
  {
   "cell_type": "code",
   "execution_count": null,
   "metadata": {},
   "outputs": [],
   "source": [
    "from ipywidgets import Button\n",
    "\n",
    "Button(description='Danger Button', button_style='danger')"
   ]
  },
  {
   "cell_type": "markdown",
   "metadata": {},
   "source": [
    "## The `style` attribute\n",
    "\n",
    "While the `layout` attribute only exposes layout-related CSS properties for the top-level DOM element of widgets, the  \n",
    "`style` attribute is used to expose non-layout related styling attributes of widgets.\n",
    "\n",
    "However, the properties of the `style` attribute are specific to each widget type."
   ]
  },
  {
   "cell_type": "code",
   "execution_count": null,
   "metadata": {},
   "outputs": [],
   "source": [
    "b1 = Button(description='Custom color')\n",
    "b1.style.button_color = 'lightgreen'\n",
    "b1"
   ]
  },
  {
   "cell_type": "code",
   "execution_count": null,
   "metadata": {},
   "outputs": [],
   "source": [
    "s1 = IntSlider(description='Blue handle')\n",
    "s1.style.handle_color = 'lightblue'\n",
    "s1"
   ]
  },
  {
   "cell_type": "markdown",
   "metadata": {},
   "source": [
    "Widget styling attributes are specific to each widget type.\n",
    "\n",
    "There is a [list of all style keys](Table of widget keys and style keys.ipynb#Style-keys)."
   ]
  },
  {
   "cell_type": "markdown",
   "metadata": {},
   "source": [
    "## A widget for exploring layout options\n",
    "\n",
    "The widgets below was written by ipywidgets user [Doug Redden (@DougRzz)](https://github.com/DougRzz). If you want to look through the source code to see how it works, take a look at this [notebook he contributed](cssJupyterWidgetStyling-UI.ipynb).\n",
    "\n",
    "Use the dropdowns and sliders in the widget to change the layout of the box containing the five colored buttons. Many of the CSS layout optoins described above are available, and the Python code to generate a `Layout` object reflecting the settings is in a `TextArea` in the widget."
   ]
  },
  {
   "cell_type": "code",
   "execution_count": 19,
   "metadata": {},
   "outputs": [
    {
     "data": {
      "application/vnd.jupyter.widget-view+json": {
       "model_id": "0fcb7a64a21a486aafafefc2aa9d5099",
       "version_major": 2,
       "version_minor": 0
      },
      "text/plain": [
       "VBox(children=(Textarea(value='', layout=Layout(height='80px', width='80%'), placeholder='Python code is expor…"
      ]
     },
     "metadata": {},
     "output_type": "display_data"
    }
   ],
   "source": [
    "from layout_preview import layout\n",
    "layout"
   ]
  },
  {
   "cell_type": "markdown",
   "metadata": {},
   "source": [
    "#### References\n",
    "* This notebook heavily adapted from the Scipy 2018 Jupyter IPython-widgets Tutorial. https://github.com/jupyter-widgets/tutorial"
   ]
  },
  {
   "cell_type": "markdown",
   "metadata": {},
   "source": [
    "Author:"
   ]
  }
 ],
 "metadata": {
  "kernelspec": {
   "display_name": "Python 3",
   "language": "python",
   "name": "python3"
  },
  "language_info": {
   "codemirror_mode": {
    "name": "ipython",
    "version": 3
   },
   "file_extension": ".py",
   "mimetype": "text/x-python",
   "name": "python",
   "nbconvert_exporter": "python",
   "pygments_lexer": "ipython3",
   "version": "3.6.4"
  }
 },
 "nbformat": 4,
 "nbformat_minor": 2
}
