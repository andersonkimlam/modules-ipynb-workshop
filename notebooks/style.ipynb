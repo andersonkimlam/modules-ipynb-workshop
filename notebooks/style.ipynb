{
 "cells": [
  {
   "cell_type": "code",
   "execution_count": null,
   "metadata": {},
   "outputs": [],
   "source": [
    "from IPython.display import HTML\n",
    "\n",
    "hide_me = ''\n",
    "HTML('''<script>\n",
    "code_show=true; \n",
    "function code_toggle() {\n",
    "  if (code_show) {\n",
    "    $('div.input').each(function(id) {\n",
    "      el = $(this).find('.cm-variable:first');\n",
    "      if (id == 0 || el.text() == 'hide_me') {\n",
    "        $(this).hide();\n",
    "      }\n",
    "    });\n",
    "    $('div.output_prompt').css('opacity', 0);\n",
    "  } else {\n",
    "    $('div.input').each(function(id) {\n",
    "      $(this).show();\n",
    "    });\n",
    "    $('div.output_prompt').css('opacity', 1);\n",
    "  }\n",
    "  code_show = !code_show\n",
    "} \n",
    "$( document ).ready(code_toggle);\n",
    "</script>\n",
    "<form action=\"javascript:code_toggle()\"><input style=\"opacity:1\" type=\"submit\" value=\"Click here to reveal the raw code.\"></form>''')"
   ]
  },
  {
   "cell_type": "markdown",
   "metadata": {},
   "source": [
    "# Berkeley Data Science Modules: Styling\n",
    "<img src=\"https://jupyter.org/assets/main-logo.svg\" style=\"width: 500px; height: 350px;\"/>\n",
    "\n",
    "*In this notebook, we'll go through some example code for common styling flair used in UC Berkeley's Data Science Modules Program Jupyter notebooks.*\n",
    "\n",
    "### Table of Contents\n",
    "1. Hiding Cells\n",
    "2. Alert Boxes\n",
    "3. Images\n",
    "4. Videos\n",
    "5. Converting notebooks to pdf with GSExport"
   ]
  },
  {
   "cell_type": "code",
   "execution_count": null,
   "metadata": {},
   "outputs": [],
   "source": [
    "# dependencies: THIS CELL MUST BE RUN\n",
    "from datascience import *\n",
    "import numpy as np\n",
    "import math\n",
    "import matplotlib.pyplot as plt\n",
    "plt.style.use('fivethirtyeight')\n",
    "import ipywidgets as widgets\n",
    "%matplotlib inline"
   ]
  },
  {
   "cell_type": "markdown",
   "metadata": {},
   "source": [
    "## Hiding Cells"
   ]
  },
  {
   "cell_type": "markdown",
   "metadata": {},
   "source": [
    "Sometimes when the intent of the module is not to teach coding, it may make sense stylistically to hide some or all code cells."
   ]
  },
  {
   "cell_type": "markdown",
   "metadata": {},
   "source": [
    "### Hide selected code cells (with option to toggle on and off)\n",
    "The very top of this notebook has a button to reveal hidden code cells. Click the button to also reveal the code needed to hide select code cells. Note that cell outputs and widgets should still be visable.\n",
    "\n",
    "To indicate that a code cell should be hidden, add `hide_me` as the first line of any code cells you want hidden. As an example, there is a hidden code cell immediately under this cell. Click the button at the top to reveal it."
   ]
  },
  {
   "cell_type": "code",
   "execution_count": null,
   "metadata": {},
   "outputs": [],
   "source": [
    "hide_me\n",
    "def f(x):\n",
    "    return x"
   ]
  },
  {
   "cell_type": "markdown",
   "metadata": {},
   "source": [
    "### Hide all code cells (with option to toggle on and off)\n",
    "For some modules, you may want to hide all code inputs. The following cell has the code to hide every code cell in the notebook (outputs and widgets will still be displayed). Run the cell to hide code cells, and click the blue underlined \"here\" to bring the code cells back."
   ]
  },
  {
   "cell_type": "code",
   "execution_count": null,
   "metadata": {},
   "outputs": [],
   "source": [
    "from IPython.display import HTML\n",
    "\n",
    "HTML('''<script>\n",
    "code_show=true; \n",
    "function code_toggle() {\n",
    " if (code_show){\n",
    " $('div.input').hide();\n",
    " } else {\n",
    " $('div.input').show();\n",
    " }\n",
    " code_show = !code_show\n",
    "} \n",
    "$( document ).ready(code_toggle);\n",
    "</script>\n",
    "The raw code for this IPython notebook is by default hidden for easier reading.\n",
    "To toggle on/off the raw code, click <a href=\"javascript:code_toggle()\">here</a>.''')"
   ]
  },
  {
   "cell_type": "markdown",
   "metadata": {},
   "source": [
    "## Alert Boxes\n",
    "\n",
    "Modules often use **alert boxes** to draw attention to exercises or hints. \n",
    "\n",
    "Note: Markdown formatting generally doesn't work inside alert boxes. Use html instead."
   ]
  },
  {
   "cell_type": "markdown",
   "metadata": {},
   "source": [
    "<div class=\"alert alert-success\">\n",
    "<b> A Success box </b> \n",
    "</div>"
   ]
  },
  {
   "cell_type": "markdown",
   "metadata": {},
   "source": [
    "<div class=\"alert alert-danger\">\n",
    "<b> A Danger box </b> \n",
    "</div>"
   ]
  },
  {
   "cell_type": "markdown",
   "metadata": {},
   "source": [
    "<div class=\"alert alert-info\">\n",
    "<b> An Info box </b> \n",
    "</div>"
   ]
  },
  {
   "cell_type": "markdown",
   "metadata": {},
   "source": [
    "<div class=\"alert alert-warning\">\n",
    "<b> A Warning box </b> \n",
    "</div>"
   ]
  },
  {
   "cell_type": "markdown",
   "metadata": {},
   "source": [
    "## Images\n",
    "\n",
    "Embed using a local path:"
   ]
  },
  {
   "cell_type": "markdown",
   "metadata": {},
   "source": [
    "<img src=\"../images/Data_scientist_Venn_diagram.png\" alt=\"Data scientist Venn diagram\"/>"
   ]
  },
  {
   "cell_type": "markdown",
   "metadata": {},
   "source": [
    "Or embed using a url:"
   ]
  },
  {
   "cell_type": "markdown",
   "metadata": {},
   "source": [
    "<img src=\"https://news.berkeley.edu/wp-content/uploads/2016/09/Oskicupcake500-1.jpg\"/>"
   ]
  },
  {
   "cell_type": "markdown",
   "metadata": {},
   "source": [
    "Change the style attribute to adjust the size:"
   ]
  },
  {
   "cell_type": "markdown",
   "metadata": {},
   "source": [
    "<img src=\"../images/Data_scientist_Venn_diagram.png\" alt=\"Data scientist Venn diagram\" style=\"width:300px;height:300px;\">\n"
   ]
  },
  {
   "cell_type": "markdown",
   "metadata": {},
   "source": [
    "## Videos"
   ]
  },
  {
   "cell_type": "code",
   "execution_count": null,
   "metadata": {},
   "outputs": [],
   "source": [
    "from IPython.lib.display import YouTubeVideo\n",
    "YouTubeVideo('7nSCZuvtO4M', #the ID of the video\n",
    "             width=500, #size attributes\n",
    "             height=400)"
   ]
  },
  {
   "cell_type": "markdown",
   "metadata": {},
   "source": [
    "## Converting to pdf (GSExport)\n",
    "For most modules where the students need to turn in notebook work as an assignment, not all parts of the notebook are required for grading. Furthermore, the built-in PDF converter can sometimes give weirdly-formatted outputs, especially with regards to graphical outputs. [GSExport](https://github.com/dibyaghosh/gsExport) is a utility designed by a Berkeley student to address some of these issues.\n",
    "\n",
    "GSExport is not available by default on Berkeley's DataHub (as of 10/2/19), so we need to install it first."
   ]
  },
  {
   "cell_type": "code",
   "execution_count": null,
   "metadata": {
    "scrolled": true
   },
   "outputs": [],
   "source": [
    "!pip install gsExport"
   ]
  },
  {
   "cell_type": "code",
   "execution_count": null,
   "metadata": {},
   "outputs": [],
   "source": [
    "import gsExport"
   ]
  },
  {
   "cell_type": "markdown",
   "metadata": {},
   "source": [
    "GSExport works by altering the metadata of the notebook. The notebook creator first indicates which cells should be included in the PDF (both Markdown and code cells) by adding \"#student\" to those cells."
   ]
  },
  {
   "cell_type": "code",
   "execution_count": null,
   "metadata": {},
   "outputs": [],
   "source": [
    "# TODO: add the correct tag to this cell to include it in the pdf\n",
    "x = ..."
   ]
  },
  {
   "cell_type": "markdown",
   "metadata": {},
   "source": [
    "**TODO: add the correct tag to this cell to include it in the pdf.**"
   ]
  },
  {
   "cell_type": "markdown",
   "metadata": {},
   "source": [
    "If desired, you can also add \"#newpage\" to Markdown cells to indicate there should be a pagebreak in the PDF at that point."
   ]
  },
  {
   "cell_type": "markdown",
   "metadata": {},
   "source": [
    "**TODO: put a page break at the top of this cell, then tag the cell for inclusion in the pdf**"
   ]
  },
  {
   "cell_type": "markdown",
   "metadata": {},
   "source": [
    "The next step is to run the following command in the shell, where the third item is the name of the notebook. This will generate a new notebook called \"[original name].nbconvert.ipynb\" where the \"#student\" tags are hidden in the metadata.\n",
    "    \n",
    "Make sure the notebook has been saved before you generate the new version!"
   ]
  },
  {
   "cell_type": "code",
   "execution_count": null,
   "metadata": {},
   "outputs": [],
   "source": [
    "# TODO: replace the ellipses with the name of the notebook to convert it\n",
    "!jupyter nbconvert ... --NotebookExporter.preprocessors=\"['gsExport.gsExportPreprocessor']\" --to notebook"
   ]
  },
  {
   "cell_type": "markdown",
   "metadata": {},
   "source": [
    "**This new notebook is the one that is distributed to students** (renaming it is fine). From the new notebook, students run the following commands to generate a PDF that includes only the tagged cells and their outputs."
   ]
  },
  {
   "cell_type": "code",
   "execution_count": null,
   "metadata": {},
   "outputs": [],
   "source": [
    "#generate the pdf\n",
    "!pip install gsExport -q\n",
    "import gsExport\n",
    "gsExport.generateSubmission(\"style.nbconvert.ipynb\")"
   ]
  },
  {
   "cell_type": "markdown",
   "metadata": {},
   "source": [
    "Once the students click on the \"Download this\" link that appears in the cell output, the PDF will be written to a file in the same directory as the notebook and (depending on the browser settings) open in a new tab."
   ]
  },
  {
   "cell_type": "markdown",
   "metadata": {},
   "source": [
    "#### References\n",
    "* \"Data Scientist Venn Diagram\" image by Stephan Kolassa, 18 November 2015. [source](http://www.prooffreader.com/2016/09/battle-of-data-science-venn-diagrams.html)\n",
    "* Code for hiding selected code cells adapted from code by Amitrajit Bose, 26 December 2018. [source](https://amitrajitbose.github.io/blog/hiding-input-cells-jupyter-notebook/)\n",
    "* Code for hiding all code cells by Damien Kao, 17 September 2014. [source](https://blog.nextgenetics.net/?e=102)\n",
    "\n"
   ]
  },
  {
   "cell_type": "markdown",
   "metadata": {},
   "source": [
    "Author: Keeley Takimoto"
   ]
  }
 ],
 "metadata": {
  "kernelspec": {
   "display_name": "Python 3",
   "language": "python",
   "name": "python3"
  },
  "language_info": {
   "codemirror_mode": {
    "name": "ipython",
    "version": 3
   },
   "file_extension": ".py",
   "mimetype": "text/x-python",
   "name": "python",
   "nbconvert_exporter": "python",
   "pygments_lexer": "ipython3",
   "version": "3.6.8"
  }
 },
 "nbformat": 4,
 "nbformat_minor": 2
}
