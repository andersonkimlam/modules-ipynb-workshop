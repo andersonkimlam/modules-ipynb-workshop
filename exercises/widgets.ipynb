{
 "cells": [
  {
   "cell_type": "markdown",
   "metadata": {},
   "source": [
    "# Berkeley Data Science Modules: Advanced Notebook Design\n",
    "<img src=\"https://jupyter.org/assets/main-logo.svg\" style=\"width: 500px; height: 350px;\"/>\n",
    "\n",
    "\n",
    "### Table of Contents\n",
    "1.  The Widget Object <a href='#section 1'></a>\n",
    "\n",
    "2. Types of Widgets<a href='#section 2'></a>\n",
    "\n",
    "3. Interact <a href='#section 3'></a>\n",
    "\n",
    "4. Modules Examples\n",
    "\n",
    "5. Style\n",
    "\n",
    "6. Layout"
   ]
  },
  {
   "cell_type": "code",
   "execution_count": 1,
   "metadata": {},
   "outputs": [],
   "source": [
    "# dependencies: THIS CELL MUST BE RUN\n",
    "from datascience import *\n",
    "import numpy as np\n",
    "import math\n",
    "import matplotlib.pyplot as plt\n",
    "plt.style.use('fivethirtyeight')\n",
    "import ipywidgets as widgets\n",
    "%matplotlib inline\n",
    "import sys\n",
    "sys.path.append(\"/home/jovyan/modules-ipynb/\")\n",
    "from scripts.bike_model_widget import *\n"
   ]
  },
  {
   "cell_type": "markdown",
   "metadata": {},
   "source": [
    "## Widgets <a id='section 3'></a>\n",
    "\n",
    "From the IPython Widgets team, \"Widgets are eventful python objects that have a representation in the browser, often as a control like a slider, textbox, etc.\"\n",
    "\n",
    "The Modules team uses widgets primarily to encourage non-coding students to explore data and data visualizations. Widgets may also help more experienced coders quickly compare the results of the same computation on multiple variables (e.g. distributions, plots, etc)\n",
    "\n",
    "To use widgets, we must first import the module."
   ]
  },
  {
   "cell_type": "code",
   "execution_count": 2,
   "metadata": {},
   "outputs": [],
   "source": [
    "# import the widgets module\n",
    "import ipywidgets as widgets\n",
    "from ipywidgets import interact, interactive, fixed, interact_manual"
   ]
  },
  {
   "cell_type": "markdown",
   "metadata": {},
   "source": [
    "### The Widget Object"
   ]
  },
  {
   "cell_type": "markdown",
   "metadata": {},
   "source": [
    "Widgets returned in the last line of a code cell are automatically displayed. All widgets are displayed below the code cell."
   ]
  },
  {
   "cell_type": "code",
   "execution_count": 3,
   "metadata": {},
   "outputs": [
    {
     "data": {
      "application/vnd.jupyter.widget-view+json": {
       "model_id": "0031ef7a00bb473fb6c4403b0f5fd8f9",
       "version_major": 2,
       "version_minor": 0
      },
      "text/plain": [
       "IntSlider(value=0)"
      ]
     },
     "metadata": {},
     "output_type": "display_data"
    }
   ],
   "source": [
    "# create and show an IntSlider\n",
    "widgets.IntSlider()"
   ]
  },
  {
   "cell_type": "code",
   "execution_count": 4,
   "metadata": {},
   "outputs": [
    {
     "data": {
      "application/vnd.jupyter.widget-view+json": {
       "model_id": "",
       "version_major": 2,
       "version_minor": 0
      },
      "text/plain": [
       "IntSlider(value=0)"
      ]
     },
     "metadata": {},
     "output_type": "display_data"
    }
   ],
   "source": [
    "# create an IntSlider and save as w\n",
    "w = widgets.IntSlider()\n",
    "# return the IntSlider\n",
    "w"
   ]
  },
  {
   "cell_type": "markdown",
   "metadata": {},
   "source": [
    "If you display the same widget twice, the displayed instances in the front-end will remain in sync with each other. Try dragging the slider below and watch the slider above."
   ]
  },
  {
   "cell_type": "code",
   "execution_count": 5,
   "metadata": {},
   "outputs": [
    {
     "data": {
      "application/vnd.jupyter.widget-view+json": {
       "model_id": "",
       "version_major": 2,
       "version_minor": 0
      },
      "text/plain": [
       "IntSlider(value=0)"
      ]
     },
     "metadata": {},
     "output_type": "display_data"
    }
   ],
   "source": [
    "w"
   ]
  },
  {
   "cell_type": "markdown",
   "metadata": {},
   "source": [
    "This works because widgets are represented in the back-end by a single object.  Each time a widget is displayed, a new representation of that same object is created in the front-end.  These representations are called views.\n",
    "\n",
    "![Kernel & front-end diagram](../images/WidgetModelView.png)\n",
    "\n",
    "You can get the current value of the widget using `.value`"
   ]
  },
  {
   "cell_type": "code",
   "execution_count": 6,
   "metadata": {},
   "outputs": [
    {
     "data": {
      "text/plain": [
       "0"
      ]
     },
     "execution_count": 6,
     "metadata": {},
     "output_type": "execute_result"
    }
   ],
   "source": [
    "# the current value of the widget\n",
    "w.value"
   ]
  },
  {
   "cell_type": "markdown",
   "metadata": {},
   "source": [
    "You can close a widget by calling its close() method."
   ]
  },
  {
   "cell_type": "code",
   "execution_count": 7,
   "metadata": {},
   "outputs": [],
   "source": [
    "# close the w IntSlider\n",
    "w.close()"
   ]
  },
  {
   "cell_type": "markdown",
   "metadata": {},
   "source": [
    "### Widget Types\n",
    "\n",
    "There are many, many widgets available for use. We're going to focus on a few that we use most often while teaching modules."
   ]
  },
  {
   "cell_type": "markdown",
   "metadata": {},
   "source": [
    "#### Sliders"
   ]
  },
  {
   "cell_type": "code",
   "execution_count": 8,
   "metadata": {},
   "outputs": [
    {
     "data": {
      "application/vnd.jupyter.widget-view+json": {
       "model_id": "b88bf9a00d21487183de46e5c7cd95d1",
       "version_major": 2,
       "version_minor": 0
      },
      "text/plain": [
       "IntSlider(value=7, continuous_update=False, description='Test:', max=10)"
      ]
     },
     "metadata": {},
     "output_type": "display_data"
    }
   ],
   "source": [
    "widgets.IntSlider(\n",
    "    value=7,\n",
    "    min=0,\n",
    "    max=10,\n",
    "    step=1,\n",
    "    description='Test:',\n",
    "    disabled=False,\n",
    "    continuous_update=False,\n",
    "    orientation='horizontal',\n",
    "    readout=True,\n",
    "    readout_format='d'\n",
    ")"
   ]
  },
  {
   "cell_type": "markdown",
   "metadata": {},
   "source": [
    "widgets.FloatSlider(\n",
    "    value=7.5,\n",
    "    min=0,\n",
    "    max=10.0,\n",
    "    step=0.1,\n",
    "    description='Test:',\n",
    "    disabled=False,\n",
    "    continuous_update=False,\n",
    "    orientation='vertical',\n",
    "    readout=True,\n",
    "    readout_format='.1f',\n",
    ")"
   ]
  },
  {
   "cell_type": "markdown",
   "metadata": {},
   "source": [
    "#### Buttons, Boxes, and Menus"
   ]
  },
  {
   "cell_type": "code",
   "execution_count": 9,
   "metadata": {},
   "outputs": [
    {
     "data": {
      "application/vnd.jupyter.widget-view+json": {
       "model_id": "d372e25244b04a7bb51ee78a75247235",
       "version_major": 2,
       "version_minor": 0
      },
      "text/plain": [
       "Checkbox(value=False, description='Check me')"
      ]
     },
     "metadata": {},
     "output_type": "display_data"
    }
   ],
   "source": [
    "widgets.Checkbox(\n",
    "    value=False,\n",
    "    description='Check me',\n",
    "    disabled=False\n",
    ")"
   ]
  },
  {
   "cell_type": "code",
   "execution_count": 10,
   "metadata": {},
   "outputs": [
    {
     "data": {
      "application/vnd.jupyter.widget-view+json": {
       "model_id": "61e7270bb8ec4800a5c51602def344e3",
       "version_major": 2,
       "version_minor": 0
      },
      "text/plain": [
       "ToggleButtons(description='Speed:', options=('Slow', 'Regular', 'Fast'), tooltips=('Description of slow', 'Des…"
      ]
     },
     "metadata": {},
     "output_type": "display_data"
    }
   ],
   "source": [
    "widgets.ToggleButtons(\n",
    "    options=['Slow', 'Regular', 'Fast'],\n",
    "    description='Speed:',\n",
    "    disabled=False,\n",
    "    button_style='', # 'success', 'info', 'warning', 'danger' or ''\n",
    "    tooltips=['Description of slow', 'Description of regular', 'Description of fast'],\n",
    "#     icons=['check'] * 3\n",
    ")"
   ]
  },
  {
   "cell_type": "code",
   "execution_count": 11,
   "metadata": {},
   "outputs": [
    {
     "data": {
      "application/vnd.jupyter.widget-view+json": {
       "model_id": "d6b0bdfbd2bf416b98eb5c750a7f9175",
       "version_major": 2,
       "version_minor": 0
      },
      "text/plain": [
       "Button(description='Click me', icon='check', style=ButtonStyle(), tooltip='Click me')"
      ]
     },
     "metadata": {},
     "output_type": "display_data"
    }
   ],
   "source": [
    "widgets.Button(\n",
    "    description='Click me',\n",
    "    disabled=False,\n",
    "    button_style='', # 'success', 'info', 'warning', 'danger' or ''\n",
    "    tooltip='Click me',\n",
    "    icon='check'\n",
    ")"
   ]
  },
  {
   "cell_type": "code",
   "execution_count": 12,
   "metadata": {},
   "outputs": [
    {
     "data": {
      "application/vnd.jupyter.widget-view+json": {
       "model_id": "62ea646bd6864896a454fe92f1c41573",
       "version_major": 2,
       "version_minor": 0
      },
      "text/plain": [
       "Dropdown(description='Number:', index=1, options=('1', '2', '3'), value='2')"
      ]
     },
     "metadata": {},
     "output_type": "display_data"
    }
   ],
   "source": [
    "widgets.Dropdown(\n",
    "    options=['1', '2', '3'],\n",
    "    value='2',\n",
    "    description='Number:',\n",
    "    disabled=False,\n",
    ")"
   ]
  },
  {
   "cell_type": "code",
   "execution_count": 13,
   "metadata": {},
   "outputs": [
    {
     "data": {
      "application/vnd.jupyter.widget-view+json": {
       "model_id": "3ef007a2cbc24bc5b0c39e343e16a3af",
       "version_major": 2,
       "version_minor": 0
      },
      "text/plain": [
       "RadioButtons(description='Pizza topping:', options=('pepperoni', 'pineapple', 'anchovies'), value='pepperoni')"
      ]
     },
     "metadata": {},
     "output_type": "display_data"
    }
   ],
   "source": [
    "widgets.RadioButtons(\n",
    "    options=['pepperoni', 'pineapple', 'anchovies'],\n",
    "#     value='pineapple',\n",
    "    description='Pizza topping:',\n",
    "    disabled=False\n",
    ")"
   ]
  },
  {
   "cell_type": "code",
   "execution_count": 14,
   "metadata": {},
   "outputs": [
    {
     "data": {
      "application/vnd.jupyter.widget-view+json": {
       "model_id": "8bd77d501a814d09b9045fb63db448f7",
       "version_major": 2,
       "version_minor": 0
      },
      "text/plain": [
       "ColorPicker(value='blue', description='Pick a color')"
      ]
     },
     "metadata": {},
     "output_type": "display_data"
    }
   ],
   "source": [
    "widgets.ColorPicker(\n",
    "    concise=False,\n",
    "    description='Pick a color',\n",
    "    value='blue',\n",
    "    disabled=False\n",
    ")"
   ]
  },
  {
   "cell_type": "markdown",
   "metadata": {},
   "source": [
    "<div class=\"alert alert-warning\">Create an IntSlider that slides from 100 to 450 with a step size of 10. Give the slider a customized description. </div>"
   ]
  },
  {
   "cell_type": "code",
   "execution_count": null,
   "metadata": {},
   "outputs": [],
   "source": []
  },
  {
   "cell_type": "markdown",
   "metadata": {},
   "source": [
    "<div class=\"alert alert-warning\">Create DropDown menu with your top five favorite movies, tv shows, or books as the options. The starting value should be your all-time favorite. Give the menu an informative description. </div>\n"
   ]
  },
  {
   "cell_type": "code",
   "execution_count": null,
   "metadata": {},
   "outputs": [],
   "source": []
  },
  {
   "cell_type": "markdown",
   "metadata": {},
   "source": [
    "### Interact\n",
    "\n",
    "The `interact` function (`ipywidgets.interact`) automatically creates user interface (UI) controls for exploring code and data interactively. It is the easiest way to get started using IPython's widgets.\n",
    "\n",
    "At the most basic level, `interact` autogenerates UI controls for function arguments, and then calls the function with those arguments when you manipulate the controls interactively. To use `interact`, you need to define a function that you want to explore. Here is a function that triples its argument, `x`."
   ]
  },
  {
   "cell_type": "code",
   "execution_count": 15,
   "metadata": {},
   "outputs": [],
   "source": [
    "def f(x):\n",
    "    return 3 * x"
   ]
  },
  {
   "cell_type": "markdown",
   "metadata": {},
   "source": [
    "When you pass this function as the first argument to `interact` along with an integer keyword argument (`x=10`), a slider is generated and bound to the function parameter."
   ]
  },
  {
   "cell_type": "code",
   "execution_count": 16,
   "metadata": {},
   "outputs": [
    {
     "data": {
      "application/vnd.jupyter.widget-view+json": {
       "model_id": "a84c9bbece1249328ffef6b725cf39d2",
       "version_major": 2,
       "version_minor": 0
      },
      "text/plain": [
       "interactive(children=(IntSlider(value=10, description='x', max=30, min=-10), Output()), _dom_classes=('widget-…"
      ]
     },
     "metadata": {},
     "output_type": "display_data"
    }
   ],
   "source": [
    "interact(f, x=10);"
   ]
  },
  {
   "cell_type": "markdown",
   "metadata": {},
   "source": [
    "@interact(x=True, y=1.0)\n",
    "def g(x, y):\n",
    "    return (x, y)"
   ]
  },
  {
   "cell_type": "code",
   "execution_count": 17,
   "metadata": {},
   "outputs": [
    {
     "data": {
      "application/vnd.jupyter.widget-view+json": {
       "model_id": "c8d7314a0cba4edaabc69abe118c379b",
       "version_major": 2,
       "version_minor": 0
      },
      "text/plain": [
       "interactive(children=(Text(value='wtf', description='x'), Output()), _dom_classes=('widget-interact',))"
      ]
     },
     "metadata": {},
     "output_type": "display_data"
    },
    {
     "data": {
      "text/plain": [
       "<function __main__.f(x)>"
      ]
     },
     "execution_count": 17,
     "metadata": {},
     "output_type": "execute_result"
    }
   ],
   "source": [
    "interact(f, x=\"wtf\")"
   ]
  },
  {
   "cell_type": "markdown",
   "metadata": {},
   "source": [
    "When you pass an integer-valued keyword argument of `10` (`x=10`) to `interact`, it generates an integer-valued slider control with a range of `[-10,+3*10]`. In this case, `10` is an *abbreviation* for an actual slider widget:\n",
    "\n",
    "```python\n",
    "IntSlider(min=-10,max=30,step=1,value=10)\n",
    "```\n",
    "\n",
    "In fact, we can get the same result if we pass this `IntSlider` as the keyword argument for `x`:"
   ]
  },
  {
   "cell_type": "code",
   "execution_count": 18,
   "metadata": {},
   "outputs": [
    {
     "data": {
      "application/vnd.jupyter.widget-view+json": {
       "model_id": "4182be6b368948c88ae258774b82d96e",
       "version_major": 2,
       "version_minor": 0
      },
      "text/plain": [
       "interactive(children=(IntSlider(value=10, description='x', max=30, min=-10), Output()), _dom_classes=('widget-…"
      ]
     },
     "metadata": {},
     "output_type": "display_data"
    }
   ],
   "source": [
    "interact(f, x=widgets.IntSlider(min=-10, max=30, step=1, value=10));"
   ]
  },
  {
   "cell_type": "markdown",
   "metadata": {},
   "source": [
    "This examples clarifies how `interact` proceses its keyword arguments:\n",
    "\n",
    "1. If the keyword argument is a `Widget` instance with a `value` attribute, that widget is used. Any widget with a `value` attribute can be used, even custom ones.\n",
    "2. Otherwise, the value is treated as a *widget abbreviation* that is converted to a widget before it is used.\n",
    "\n",
    "The following table gives an overview of different widget abbreviations:\n",
    "\n",
    "<table class=\"table table-condensed table-bordered\">\n",
    "  <tr><td><strong>Keyword argument</strong></td><td><strong>Widget</strong></td></tr>  \n",
    "  <tr><td>`True` or `False`</td><td>Checkbox</td></tr>  \n",
    "  <tr><td>`'Hi there'`</td><td>Text</td></tr>\n",
    "  <tr><td>`value` or `(min,max)` or `(min,max,step)` if integers are passed</td><td>IntSlider</td></tr>\n",
    "  <tr><td>`value` or `(min,max)` or `(min,max,step)` if floats are passed</td><td>FloatSlider</td></tr>\n",
    "  <tr><td>`['orange','apple']` or `[('one', 1), ('two', 2)]`</td><td>Dropdown</td></tr>\n",
    "</table>\n",
    "Note that a dropdown is used if a list or a list of tuples is given (signifying discrete choices), and a slider is used if a tuple is given (signifying a range)."
   ]
  },
  {
   "cell_type": "markdown",
   "metadata": {},
   "source": [
    "<div class=\"alert alert-warning\"><p>The following cell defines a function called `reverse` that takes an input string `x` and returns the input in reverse order. Use interact to create a text widget for `reverse`. </p>\n",
    "<p> HINT: you don't have to initialize a text widget by itself. With the correct keyword argument, `interact` can create one automatically. </p></div>"
   ]
  },
  {
   "cell_type": "code",
   "execution_count": 19,
   "metadata": {},
   "outputs": [],
   "source": [
    "def reverse(x):\n",
    "    return x[::-1]"
   ]
  },
  {
   "cell_type": "code",
   "execution_count": 20,
   "metadata": {},
   "outputs": [],
   "source": [
    "# CREATE A WIDGET HERE\n"
   ]
  },
  {
   "cell_type": "markdown",
   "metadata": {},
   "source": [
    "### Examples for Modules\n",
    "\n",
    "In Modules, we often use widgets to let students interact with data without having to write code. This approach reduces the chances a Modules student will generate errors and allows them to focus on analysis and interpretation rather than code."
   ]
  },
  {
   "cell_type": "code",
   "execution_count": 21,
   "metadata": {},
   "outputs": [
    {
     "data": {
      "application/vnd.jupyter.widget-view+json": {
       "model_id": "1a9222b150594f7e9a07f8142e60fa7f",
       "version_major": 2,
       "version_minor": 0
      },
      "text/plain": [
       "interactive(children=(ToggleButtons(description='feature', options=('Rank', 'Votes'), value='Rank'), Output())…"
      ]
     },
     "metadata": {},
     "output_type": "display_data"
    }
   ],
   "source": [
    "# load movie data\n",
    "ratings = Table.read_table(\"../data/imdb_ratings.csv\")\n",
    "\n",
    "# make many bar plots showing feature averages per decade\n",
    "def avg_by_decade(feature):\n",
    "    return ratings.select(feature, \"Decade\").group(\"Decade\", np.average).barh(\"Decade\")\n",
    "\n",
    "# create the slider sfor the widget\n",
    "buttons = widgets.ToggleButtons(options=[\"Rank\", \"Votes\"])\n",
    "\n",
    "# create the widget to view plots for different parameter values\n",
    "display(widgets.interactive(avg_by_decade, feature=buttons))"
   ]
  },
  {
   "cell_type": "code",
   "execution_count": 22,
   "metadata": {},
   "outputs": [
    {
     "data": {
      "text/html": [
       "<table border=\"1\" class=\"dataframe\">\n",
       "    <thead>\n",
       "        <tr>\n",
       "            <th>instant</th> <th>date</th> <th>season</th> <th>year</th> <th>month</th> <th>is holiday</th> <th>week day</th> <th>is work day</th> <th>weather</th> <th>temp</th> <th>felt temp</th> <th>humidity</th> <th>windspeed</th> <th>casual riders</th> <th>registered riders</th> <th>total riders</th>\n",
       "        </tr>\n",
       "    </thead>\n",
       "    <tbody>\n",
       "        <tr>\n",
       "            <td>1      </td> <td>2011-01-01</td> <td>spring</td> <td>2011</td> <td>1    </td> <td>no        </td> <td>saturday </td> <td>no         </td> <td>2      </td> <td>0.344167</td> <td>0.363625 </td> <td>0.805833</td> <td>0.160446 </td> <td>331          </td> <td>654              </td> <td>985         </td>\n",
       "        </tr>\n",
       "        <tr>\n",
       "            <td>2      </td> <td>2011-01-02</td> <td>spring</td> <td>2011</td> <td>1    </td> <td>no        </td> <td>sunday   </td> <td>no         </td> <td>2      </td> <td>0.363478</td> <td>0.353739 </td> <td>0.696087</td> <td>0.248539 </td> <td>131          </td> <td>670              </td> <td>801         </td>\n",
       "        </tr>\n",
       "        <tr>\n",
       "            <td>3      </td> <td>2011-01-03</td> <td>spring</td> <td>2011</td> <td>1    </td> <td>no        </td> <td>monday   </td> <td>yes        </td> <td>1      </td> <td>0.196364</td> <td>0.189405 </td> <td>0.437273</td> <td>0.248309 </td> <td>120          </td> <td>1229             </td> <td>1349        </td>\n",
       "        </tr>\n",
       "        <tr>\n",
       "            <td>4      </td> <td>2011-01-04</td> <td>spring</td> <td>2011</td> <td>1    </td> <td>no        </td> <td>tuesday  </td> <td>yes        </td> <td>1      </td> <td>0.2     </td> <td>0.212122 </td> <td>0.590435</td> <td>0.160296 </td> <td>108          </td> <td>1454             </td> <td>1562        </td>\n",
       "        </tr>\n",
       "        <tr>\n",
       "            <td>5      </td> <td>2011-01-05</td> <td>spring</td> <td>2011</td> <td>1    </td> <td>no        </td> <td>wednesday</td> <td>yes        </td> <td>1      </td> <td>0.226957</td> <td>0.22927  </td> <td>0.436957</td> <td>0.1869   </td> <td>82           </td> <td>1518             </td> <td>1600        </td>\n",
       "        </tr>\n",
       "        <tr>\n",
       "            <td>6      </td> <td>2011-01-06</td> <td>spring</td> <td>2011</td> <td>1    </td> <td>no        </td> <td>thursday </td> <td>yes        </td> <td>1      </td> <td>0.204348</td> <td>0.233209 </td> <td>0.518261</td> <td>0.0895652</td> <td>88           </td> <td>1518             </td> <td>1606        </td>\n",
       "        </tr>\n",
       "        <tr>\n",
       "            <td>7      </td> <td>2011-01-07</td> <td>spring</td> <td>2011</td> <td>1    </td> <td>no        </td> <td>friday   </td> <td>yes        </td> <td>2      </td> <td>0.196522</td> <td>0.208839 </td> <td>0.498696</td> <td>0.168726 </td> <td>148          </td> <td>1362             </td> <td>1510        </td>\n",
       "        </tr>\n",
       "        <tr>\n",
       "            <td>8      </td> <td>2011-01-08</td> <td>spring</td> <td>2011</td> <td>1    </td> <td>no        </td> <td>saturday </td> <td>no         </td> <td>2      </td> <td>0.165   </td> <td>0.162254 </td> <td>0.535833</td> <td>0.266804 </td> <td>68           </td> <td>891              </td> <td>959         </td>\n",
       "        </tr>\n",
       "        <tr>\n",
       "            <td>9      </td> <td>2011-01-09</td> <td>spring</td> <td>2011</td> <td>1    </td> <td>no        </td> <td>sunday   </td> <td>no         </td> <td>1      </td> <td>0.138333</td> <td>0.116175 </td> <td>0.434167</td> <td>0.36195  </td> <td>54           </td> <td>768              </td> <td>822         </td>\n",
       "        </tr>\n",
       "        <tr>\n",
       "            <td>10     </td> <td>2011-01-10</td> <td>spring</td> <td>2011</td> <td>1    </td> <td>no        </td> <td>monday   </td> <td>yes        </td> <td>1      </td> <td>0.150833</td> <td>0.150888 </td> <td>0.482917</td> <td>0.223267 </td> <td>41           </td> <td>1280             </td> <td>1321        </td>\n",
       "        </tr>\n",
       "    </tbody>\n",
       "</table>\n",
       "<p>... (721 rows omitted)</p>"
      ],
      "text/plain": [
       "instant | date       | season | year | month | is holiday | week day  | is work day | weather | temp     | felt temp | humidity | windspeed | casual riders | registered riders | total riders\n",
       "1       | 2011-01-01 | spring | 2011 | 1     | no         | saturday  | no          | 2       | 0.344167 | 0.363625  | 0.805833 | 0.160446  | 331           | 654               | 985\n",
       "2       | 2011-01-02 | spring | 2011 | 1     | no         | sunday    | no          | 2       | 0.363478 | 0.353739  | 0.696087 | 0.248539  | 131           | 670               | 801\n",
       "3       | 2011-01-03 | spring | 2011 | 1     | no         | monday    | yes         | 1       | 0.196364 | 0.189405  | 0.437273 | 0.248309  | 120           | 1229              | 1349\n",
       "4       | 2011-01-04 | spring | 2011 | 1     | no         | tuesday   | yes         | 1       | 0.2      | 0.212122  | 0.590435 | 0.160296  | 108           | 1454              | 1562\n",
       "5       | 2011-01-05 | spring | 2011 | 1     | no         | wednesday | yes         | 1       | 0.226957 | 0.22927   | 0.436957 | 0.1869    | 82            | 1518              | 1600\n",
       "6       | 2011-01-06 | spring | 2011 | 1     | no         | thursday  | yes         | 1       | 0.204348 | 0.233209  | 0.518261 | 0.0895652 | 88            | 1518              | 1606\n",
       "7       | 2011-01-07 | spring | 2011 | 1     | no         | friday    | yes         | 2       | 0.196522 | 0.208839  | 0.498696 | 0.168726  | 148           | 1362              | 1510\n",
       "8       | 2011-01-08 | spring | 2011 | 1     | no         | saturday  | no          | 2       | 0.165    | 0.162254  | 0.535833 | 0.266804  | 68            | 891               | 959\n",
       "9       | 2011-01-09 | spring | 2011 | 1     | no         | sunday    | no          | 1       | 0.138333 | 0.116175  | 0.434167 | 0.36195   | 54            | 768               | 822\n",
       "10      | 2011-01-10 | spring | 2011 | 1     | no         | monday    | yes         | 1       | 0.150833 | 0.150888  | 0.482917 | 0.223267  | 41            | 1280              | 1321\n",
       "... (721 rows omitted)"
      ]
     },
     "execution_count": 22,
     "metadata": {},
     "output_type": "execute_result"
    }
   ],
   "source": [
    "# load the Capital bike-sharing data set\n",
    "bikes = Table.read_table(\"../data/day_renamed_dso.csv\")\n",
    "bikes"
   ]
  },
  {
   "cell_type": "code",
   "execution_count": 31,
   "metadata": {},
   "outputs": [
    {
     "name": "stdout",
     "output_type": "stream",
     "text": [
      "Collecting gsExport\n",
      "Requirement already satisfied: notebook in /srv/app/venv/lib/python3.6/site-packages (from gsExport)\n",
      "Requirement already satisfied: pytz in /srv/app/venv/lib/python3.6/site-packages (from gsExport)\n",
      "Requirement already satisfied: tqdm in /srv/app/venv/lib/python3.6/site-packages (from gsExport)\n",
      "Collecting jupyter (from gsExport)\n",
      "  Using cached https://files.pythonhosted.org/packages/83/df/0f5dd132200728a86190397e1ea87cd76244e42d39ec5e88efd25b2abd7e/jupyter-1.0.0-py2.py3-none-any.whl\n",
      "Collecting nbconvert<5 (from gsExport)\n",
      "  Using cached https://files.pythonhosted.org/packages/3a/35/fdd3aff03237027f6ed7c1692b1ca7c839e504ae19a5709ea63da2ae1c3a/nbconvert-4.3.0-py2.py3-none-any.whl\n",
      "Requirement already satisfied: nbformat in /srv/app/venv/lib/python3.6/site-packages (from gsExport)\n",
      "Requirement already satisfied: okpy in /srv/app/venv/lib/python3.6/site-packages (from gsExport)\n",
      "Requirement already satisfied: Send2Trash in /srv/app/venv/lib/python3.6/site-packages (from notebook->gsExport)\n",
      "Requirement already satisfied: pyzmq>=17 in /srv/app/venv/lib/python3.6/site-packages (from notebook->gsExport)\n",
      "Requirement already satisfied: prometheus-client in /srv/app/venv/lib/python3.6/site-packages (from notebook->gsExport)\n",
      "Requirement already satisfied: tornado<7,>=4.1 in /srv/app/venv/lib/python3.6/site-packages (from notebook->gsExport)\n",
      "Requirement already satisfied: jupyter-client>=5.2.0 in /srv/app/venv/lib/python3.6/site-packages (from notebook->gsExport)\n",
      "Requirement already satisfied: ipykernel in /srv/app/venv/lib/python3.6/site-packages (from notebook->gsExport)\n",
      "Requirement already satisfied: terminado>=0.8.1 in /srv/app/venv/lib/python3.6/site-packages (from notebook->gsExport)\n",
      "Requirement already satisfied: traitlets>=4.2.1 in /srv/app/venv/lib/python3.6/site-packages (from notebook->gsExport)\n",
      "Requirement already satisfied: ipython-genutils in /srv/app/venv/lib/python3.6/site-packages (from notebook->gsExport)\n",
      "Requirement already satisfied: jupyter-core>=4.4.0 in /srv/app/venv/lib/python3.6/site-packages (from notebook->gsExport)\n",
      "Requirement already satisfied: jinja2 in /srv/app/venv/lib/python3.6/site-packages (from notebook->gsExport)\n",
      "Collecting qtconsole (from jupyter->gsExport)\n",
      "  Using cached https://files.pythonhosted.org/packages/d0/fc/4936c60be8d56acedfefcc13cf9f3d881e4036147d78e86160463c92d1b7/qtconsole-4.5.5-py2.py3-none-any.whl\n",
      "Collecting jupyter-console (from jupyter->gsExport)\n",
      "  Using cached https://files.pythonhosted.org/packages/cb/ee/6374ae8c21b7d0847f9c3722dcdfac986b8e54fa9ad9ea66e1eb6320d2b8/jupyter_console-6.0.0-py2.py3-none-any.whl\n",
      "Requirement already satisfied: ipywidgets in /srv/app/venv/lib/python3.6/site-packages (from jupyter->gsExport)\n",
      "Requirement already satisfied: pygments in /srv/app/venv/lib/python3.6/site-packages (from nbconvert<5->gsExport)\n",
      "Requirement already satisfied: mistune!=0.6 in /srv/app/venv/lib/python3.6/site-packages (from nbconvert<5->gsExport)\n",
      "Requirement already satisfied: entrypoints in /srv/app/venv/lib/python3.6/site-packages (from nbconvert<5->gsExport)\n",
      "Requirement already satisfied: jsonschema!=2.5.0,>=2.4 in /srv/app/venv/lib/python3.6/site-packages (from nbformat->gsExport)\n",
      "Collecting requests==2.12.4 (from okpy->gsExport)\n",
      "  Using cached https://files.pythonhosted.org/packages/ed/9e/60cc074968c095f728f0d8d28370e8d396fa60afb7582735563cccf223dd/requests-2.12.4-py2.py3-none-any.whl\n",
      "Requirement already satisfied: python-dateutil>=2.1 in /srv/app/venv/lib/python3.6/site-packages (from jupyter-client>=5.2.0->notebook->gsExport)\n",
      "Requirement already satisfied: ipython>=5.0.0 in /srv/app/venv/lib/python3.6/site-packages (from ipykernel->notebook->gsExport)\n",
      "Requirement already satisfied: ptyprocess; os_name != \"nt\" in /srv/app/venv/lib/python3.6/site-packages (from terminado>=0.8.1->notebook->gsExport)\n",
      "Requirement already satisfied: decorator in /srv/app/venv/lib/python3.6/site-packages (from traitlets>=4.2.1->notebook->gsExport)\n",
      "Requirement already satisfied: six in /srv/app/venv/lib/python3.6/site-packages (from traitlets>=4.2.1->notebook->gsExport)\n",
      "Requirement already satisfied: MarkupSafe>=0.23 in /srv/app/venv/lib/python3.6/site-packages (from jinja2->notebook->gsExport)\n",
      "Requirement already satisfied: prompt-toolkit<2.1.0,>=2.0.0 in /srv/app/venv/lib/python3.6/site-packages (from jupyter-console->jupyter->gsExport)\n",
      "Requirement already satisfied: widgetsnbextension~=3.2.0 in /srv/app/venv/lib/python3.6/site-packages (from ipywidgets->jupyter->gsExport)\n",
      "Requirement already satisfied: pyrsistent>=0.14.0 in /srv/app/venv/lib/python3.6/site-packages (from jsonschema!=2.5.0,>=2.4->nbformat->gsExport)\n",
      "Requirement already satisfied: importlib-metadata in /srv/app/venv/lib/python3.6/site-packages (from jsonschema!=2.5.0,>=2.4->nbformat->gsExport)\n",
      "Requirement already satisfied: setuptools in /srv/app/venv/lib/python3.6/site-packages (from jsonschema!=2.5.0,>=2.4->nbformat->gsExport)\n",
      "Requirement already satisfied: attrs>=17.4.0 in /srv/app/venv/lib/python3.6/site-packages (from jsonschema!=2.5.0,>=2.4->nbformat->gsExport)\n",
      "Requirement already satisfied: jedi>=0.10 in /srv/app/venv/lib/python3.6/site-packages (from ipython>=5.0.0->ipykernel->notebook->gsExport)\n",
      "Requirement already satisfied: pexpect; sys_platform != \"win32\" in /srv/app/venv/lib/python3.6/site-packages (from ipython>=5.0.0->ipykernel->notebook->gsExport)\n",
      "Requirement already satisfied: backcall in /srv/app/venv/lib/python3.6/site-packages (from ipython>=5.0.0->ipykernel->notebook->gsExport)\n",
      "Requirement already satisfied: pickleshare in /srv/app/venv/lib/python3.6/site-packages (from ipython>=5.0.0->ipykernel->notebook->gsExport)\n",
      "Requirement already satisfied: wcwidth in /srv/app/venv/lib/python3.6/site-packages (from prompt-toolkit<2.1.0,>=2.0.0->jupyter-console->jupyter->gsExport)\n",
      "Requirement already satisfied: zipp>=0.5 in /srv/app/venv/lib/python3.6/site-packages (from importlib-metadata->jsonschema!=2.5.0,>=2.4->nbformat->gsExport)\n",
      "Requirement already satisfied: parso>=0.5.0 in /srv/app/venv/lib/python3.6/site-packages (from jedi>=0.10->ipython>=5.0.0->ipykernel->notebook->gsExport)\n",
      "Requirement already satisfied: more-itertools in /srv/app/venv/lib/python3.6/site-packages (from zipp>=0.5->importlib-metadata->jsonschema!=2.5.0,>=2.4->nbformat->gsExport)\n",
      "Installing collected packages: qtconsole, nbconvert, jupyter-console, jupyter, gsExport, requests\n",
      "  Found existing installation: nbconvert 5.6.0\n",
      "    Uninstalling nbconvert-5.6.0:\n",
      "      Successfully uninstalled nbconvert-5.6.0\n",
      "  Found existing installation: requests 2.21.0\n",
      "    Uninstalling requests-2.21.0:\n",
      "      Successfully uninstalled requests-2.21.0\n",
      "Successfully installed gsExport-0.19.1.1 jupyter-1.0.0 jupyter-console-6.0.0 nbconvert-4.3.0 qtconsole-4.5.5 requests-2.12.4\n"
     ]
    }
   ],
   "source": [
    "import gsExport\n",
    "!jupyter nbconvert widgets.ipynb --NotebookExporter.preprocessors=\"['gsExport.gsExportPreprocessor']\" --to notebook\n",
    "gsExport.generateSubmission(\"widgets.nbconvert.ipynb\")\n"
   ]
  },
  {
   "cell_type": "code",
   "execution_count": null,
   "metadata": {},
   "outputs": [],
   "source": [
    "from "
   ]
  },
  {
   "cell_type": "code",
   "execution_count": 23,
   "metadata": {},
   "outputs": [
    {
     "data": {
      "application/vnd.jupyter.widget-view+json": {
       "model_id": "7bca807960d141e68a5ac0a2a7e243cf",
       "version_major": 2,
       "version_minor": 0
      },
      "text/plain": [
       "interactive(children=(Dropdown(description='predictor', options=('humidity', 'windspeed', 'temp'), value='humi…"
      ]
     },
     "metadata": {},
     "output_type": "display_data"
    }
   ],
   "source": [
    "#student\n",
    "# compare scatter plots for casual and registered riders for different predictor variables\n",
    "def scatter_bikes(predictor, response, fit_line):\n",
    "    if response == \"both\":\n",
    "        b = bikes.select(\"registered riders\", \"casual riders\", predictor)\n",
    "    else:\n",
    "        b = bikes.select(response, predictor)\n",
    "    return b.scatter(predictor, fit_line=fit_line)\n",
    "\n",
    "# create the sliders for the widget\n",
    "predict_widget = widgets.Dropdown(options=[\"humidity\", \"windspeed\", \"temp\"],\n",
    "                         value=\"humidity\")\n",
    "response_widget = widgets.Dropdown(options=[\"casual riders\", \"registered riders\", \"both\"],\n",
    "                         value=\"casual riders\")\n",
    "fitline_widget = widgets.Checkbox(value=True,\n",
    "                          description=\"Show fit line\")\n",
    "\n",
    "# create the widget to view plots for different parameter values\n",
    "interact(scatter_bikes, predictor=predict_widget, response=response_widget, fit_line=fitline_widget);"
   ]
  },
  {
   "cell_type": "code",
   "execution_count": 24,
   "metadata": {},
   "outputs": [
    {
     "data": {
      "application/vnd.jupyter.widget-view+json": {
       "model_id": "ea3e1d49282b40d587e47b626ab55e23",
       "version_major": 2,
       "version_minor": 0
      },
      "text/plain": [
       "Box(children=(ToggleButton(value=False, description='season'), ToggleButton(value=False, description='year'), …"
      ]
     },
     "metadata": {},
     "output_type": "display_data"
    },
    {
     "data": {
      "application/vnd.jupyter.widget-view+json": {
       "model_id": "d4b3a44788f54a1bbacf3bfe17870233",
       "version_major": 2,
       "version_minor": 0
      },
      "text/plain": [
       "ToggleButton(value=False, description='intercept')"
      ]
     },
     "metadata": {},
     "output_type": "display_data"
    },
    {
     "data": {
      "application/vnd.jupyter.widget-view+json": {
       "model_id": "0520802184fa495792d6d4283158d37a",
       "version_major": 2,
       "version_minor": 0
      },
      "text/plain": [
       "RadioButtons(description='Response variable:', options=('total riders', 'casual riders', 'registered riders'),…"
      ]
     },
     "metadata": {},
     "output_type": "display_data"
    },
    {
     "data": {
      "application/vnd.jupyter.widget-view+json": {
       "model_id": "3aac028a5ca84f52b70bf63a65b70f07",
       "version_major": 2,
       "version_minor": 0
      },
      "text/plain": [
       "Output(layout=Layout(height='800px'))"
      ]
     },
     "metadata": {},
     "output_type": "display_data"
    }
   ],
   "source": [
    "# run this cell to generate the widget\n",
    "display(expl_buttons,  intercept, response_radio,out)"
   ]
  },
  {
   "cell_type": "markdown",
   "metadata": {},
   "source": [
    "<div class=\"alert alert-warning\">The following cell defines a function that will generate a histogram for a quantitative variable in the `bikes` Table. Create a DropDown menu, a set of ToggleButtons, OR a set of RadioButtons with the names of three categorical variables. Then, use `interact` and the `bike_hist` function to create a widget for generating different histograms.</div>"
   ]
  },
  {
   "cell_type": "code",
   "execution_count": 25,
   "metadata": {},
   "outputs": [],
   "source": [
    "def bike_hist(feature):\n",
    "    \"Create a histogram for FEATURE\"\n",
    "    return bikes.hist(feature)\n",
    "\n",
    "#YOUR CODE HERE\n"
   ]
  },
  {
   "cell_type": "markdown",
   "metadata": {},
   "source": [
    "## Predefined styles\n",
    "\n",
    "If you wish the styling of widgets to make use of colors and styles defined by the environment (to be consistent with e.g. a notebook theme), many widgets enable choosing in a list of pre-defined styles.\n",
    "\n",
    "For example, the `Button` widget has a `button_style` attribute that may take 5 different values:\n",
    "\n",
    " - `'primary'`\n",
    " - `'success'`\n",
    " - `'info'`\n",
    " - `'warning'`\n",
    " - `'danger'`\n",
    "\n",
    "besides the default empty string ''."
   ]
  },
  {
   "cell_type": "code",
   "execution_count": 26,
   "metadata": {},
   "outputs": [
    {
     "data": {
      "application/vnd.jupyter.widget-view+json": {
       "model_id": "3a11fe84015048a99502993225a0e112",
       "version_major": 2,
       "version_minor": 0
      },
      "text/plain": [
       "Button(button_style='danger', description='Danger Button', style=ButtonStyle())"
      ]
     },
     "metadata": {},
     "output_type": "display_data"
    }
   ],
   "source": [
    "from ipywidgets import Button\n",
    "\n",
    "Button(description='Danger Button', button_style='danger')"
   ]
  },
  {
   "cell_type": "markdown",
   "metadata": {},
   "source": [
    "## The `style` attribute\n",
    "\n",
    "While the `layout` attribute only exposes layout-related CSS properties for the top-level DOM element of widgets, the  \n",
    "`style` attribute is used to expose non-layout related styling attributes of widgets.\n",
    "\n",
    "However, the properties of the `style` attribute are specific to each widget type."
   ]
  },
  {
   "cell_type": "code",
   "execution_count": 27,
   "metadata": {},
   "outputs": [
    {
     "data": {
      "application/vnd.jupyter.widget-view+json": {
       "model_id": "832e0f710df349a8a7b010382912d260",
       "version_major": 2,
       "version_minor": 0
      },
      "text/plain": [
       "Button(description='Custom color', style=ButtonStyle(button_color='lightgreen'))"
      ]
     },
     "metadata": {},
     "output_type": "display_data"
    }
   ],
   "source": [
    "b1 = Button(description='Custom color')\n",
    "b1.style.button_color = 'lightgreen'\n",
    "b1"
   ]
  },
  {
   "cell_type": "code",
   "execution_count": 28,
   "metadata": {},
   "outputs": [
    {
     "data": {
      "application/vnd.jupyter.widget-view+json": {
       "model_id": "5eff9f2462e8407a8b36f0acd47f951d",
       "version_major": 2,
       "version_minor": 0
      },
      "text/plain": [
       "IntSlider(value=0, description='Blue handle', style=SliderStyle(handle_color='lightblue'))"
      ]
     },
     "metadata": {},
     "output_type": "display_data"
    }
   ],
   "source": [
    "s1 = widgets.IntSlider(description='Blue handle')\n",
    "s1.style.handle_color = 'lightblue'\n",
    "s1"
   ]
  },
  {
   "cell_type": "markdown",
   "metadata": {},
   "source": [
    "Widget styling attributes are specific to each widget type. You can get the list of style attributes for a widget using the `keys` attribute."
   ]
  },
  {
   "cell_type": "code",
   "execution_count": 29,
   "metadata": {},
   "outputs": [
    {
     "data": {
      "text/plain": [
       "['_model_module',\n",
       " '_model_module_version',\n",
       " '_model_name',\n",
       " '_view_count',\n",
       " '_view_module',\n",
       " '_view_module_version',\n",
       " '_view_name',\n",
       " 'description_width',\n",
       " 'handle_color']"
      ]
     },
     "execution_count": 29,
     "metadata": {},
     "output_type": "execute_result"
    }
   ],
   "source": [
    "s1.style.keys"
   ]
  },
  {
   "cell_type": "markdown",
   "metadata": {},
   "source": [
    "## A widget for exploring layout options\n",
    "\n",
    "The widgets below was written by ipywidgets user [Doug Redden (@DougRzz)](https://github.com/DougRzz). If you want to look through the source code to see how it works, take a look at this [notebook he contributed](cssJupyterWidgetStyling-UI.ipynb).\n",
    "\n",
    "Use the dropdowns and sliders in the widget to change the layout of the box containing the five colored buttons. Many of the CSS layout optoins described above are available, and the Python code to generate a `Layout` object reflecting the settings is in a `TextArea` in the widget."
   ]
  },
  {
   "cell_type": "code",
   "execution_count": 30,
   "metadata": {},
   "outputs": [
    {
     "data": {
      "application/vnd.jupyter.widget-view+json": {
       "model_id": "1181ce11aeb54b4cb05f25fa4520bcf0",
       "version_major": 2,
       "version_minor": 0
      },
      "text/plain": [
       "VBox(children=(Textarea(value='', layout=Layout(height='80px', width='80%'), placeholder='Python code is expor…"
      ]
     },
     "metadata": {},
     "output_type": "display_data"
    }
   ],
   "source": [
    "from layout_preview import layout\n",
    "layout"
   ]
  },
  {
   "cell_type": "markdown",
   "metadata": {},
   "source": [
    "#### References\n",
    "* This notebook heavily adapted from the Scipy 2018 Jupyter IPython-widgets Tutorial. https://github.com/jupyter-widgets/tutorial"
   ]
  },
  {
   "cell_type": "markdown",
   "metadata": {},
   "source": [
    "Author: Keeley Takimoto"
   ]
  }
 ],
 "metadata": {
  "kernelspec": {
   "display_name": "Python 3",
   "language": "python",
   "name": "python3"
  },
  "language_info": {
   "codemirror_mode": {
    "name": "ipython",
    "version": 3
   },
   "file_extension": ".py",
   "mimetype": "text/x-python",
   "name": "python",
   "nbconvert_exporter": "python",
   "pygments_lexer": "ipython3",
   "version": "3.6.8"
  }
 },
 "nbformat": 4,
 "nbformat_minor": 2
}
